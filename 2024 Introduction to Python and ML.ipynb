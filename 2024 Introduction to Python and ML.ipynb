{
 "cells": [
  {
   "cell_type": "markdown",
   "metadata": {},
   "source": [
    "## An Introduction to mathematical modeling and Python "
   ]
  },
  {
   "cell_type": "markdown",
   "metadata": {},
   "source": [
    "In this class, we will do our coding in Python. This is a coding language that has a lot of advantages. First, it has a relatively easy learning curve. If you've done coding before, you should catch on quickly. If not, it is an intuitive language. Second, it is *open-source*. This means that the entire coding language is freely accessible for anyone. That means you can use it on any machine without any cost. It also means that people can develop code for it and share their code with others. Python makes it extremely easy to *import* the code written by others. Third, because code is being constantly developed and shared, it is quite easy to start writing powerful code since we can take advantage of the wonderful programs written by others!\n",
    "\n",
    "The document you are looking at now is called a Jupyter Notebook. This is a fourth great advantage of Python. We can mix text and code in this document, explaining steps as we go along. At any point, you can edit the code you see and press Shift + Enter to evaluate it and see how your new code changes the result. \n",
    "\n",
    "To get started, click on the cell (the rectangular box) below press Shift + Enter to evaluate its content (run the code).\n",
    "\n",
    "Try playing around with different numbers below."
   ]
  },
  {
   "cell_type": "code",
   "execution_count": null,
   "metadata": {},
   "outputs": [],
   "source": [
    "3 + 5*2"
   ]
  },
  {
   "cell_type": "markdown",
   "metadata": {},
   "source": [
    "Try changing the code in the box above to calculate other simple things. Remember to press Shift + Enter to evaluate your new code! We can easily use Python as a calculator in this way.\n",
    "\n",
    "Remember how we said we wanted to use code written by others? One of the most popular sets of code is called numpy (numerical Python). This is a package that includes a *ton* of useful math functions. Getting access to this great code is as simple as requesting Python import it! Press Shift + Enter on the box below:"
   ]
  },
  {
   "cell_type": "code",
   "execution_count": null,
   "metadata": {},
   "outputs": [],
   "source": [
    "import numpy as np"
   ]
  },
  {
   "cell_type": "markdown",
   "metadata": {},
   "source": [
    "Importing 'as' np means that we can use the pieces of code in this big library of code simply by typing 'np' first. "
   ]
  },
  {
   "cell_type": "markdown",
   "metadata": {},
   "source": [
    "Now we can make use of numpy functions. All numpy code begins with np.y where y is the name of the function you want to use. For example, press Shift + Enter on the below block. Discuss with your group what this code is doing."
   ]
  },
  {
   "cell_type": "code",
   "execution_count": null,
   "metadata": {},
   "outputs": [],
   "source": [
    "np.exp(1)"
   ]
  },
  {
   "cell_type": "markdown",
   "metadata": {},
   "source": [
    "We are going to use Python and numpy to obtain the results from the math worksheet in a computer. You will hopefully start to get a feel for how useful it is to outsource math to a machine!\n",
    "\n",
    "We can break down the first problem in the math worksheet, using the Pythagorean Theorem, into simply a series of four calculator evaluations - $a^2$, $b^2$, adding $a^2 + b^2$, and taking the square root ($a$ and $b$ are just numbers). Complete each one in the cells below. Remember to press Shift + Enter to evaluate them. If a function doesn't seem to work, try putting \"np.\" in front of it. Many of the mathematical functions you expect are included in numpy but not basic Python. Finally, the exponent in Python is defined by **."
   ]
  },
  {
   "cell_type": "code",
   "execution_count": null,
   "metadata": {},
   "outputs": [],
   "source": []
  },
  {
   "cell_type": "code",
   "execution_count": null,
   "metadata": {},
   "outputs": [],
   "source": []
  },
  {
   "cell_type": "code",
   "execution_count": null,
   "metadata": {},
   "outputs": [],
   "source": []
  },
  {
   "cell_type": "code",
   "execution_count": null,
   "metadata": {},
   "outputs": [],
   "source": []
  },
  {
   "cell_type": "markdown",
   "metadata": {},
   "source": [
    "Mathematical models take the form of *functions*. Functions can be created in Python several different ways. One way is to use the following to define a function:\n",
    "\n",
    "The following line creates (using *def*) the function \"Area_Of_Square\" which takes in one input: length, and returns one output, the total area of a square. \n",
    "\n",
    "In Machine Learning, the input is called *input data* and the output is called the *target variable*."
   ]
  },
  {
   "cell_type": "code",
   "execution_count": null,
   "metadata": {},
   "outputs": [],
   "source": [
    "def Area_Of_Square(length):\n",
    "    return length*length"
   ]
  },
  {
   "cell_type": "markdown",
   "metadata": {},
   "source": [
    "So, we are defining in code the function $\\text{area of square} = \\text{length*length}$, where $\\text{Area_Of_Square}$ is the name of our function and our output, and $\\text{length}$ is our input variable. Note that when we run this code, there isn't an output - that's okay! We have *defined* a function, but we haven't tried to *evaluate* it yet - that's when we expect an output.\n",
    "\n",
    "To evaluate the function, we will call its name and give it an input. The function will return the output.\n",
    "\n",
    "We can now use the function \"Area_Of_Square\" to find the area of a square (the target variable) from the length of one side (the input data)."
   ]
  },
  {
   "cell_type": "code",
   "execution_count": null,
   "metadata": {},
   "outputs": [],
   "source": [
    "Area_Of_Square(3)"
   ]
  },
  {
   "cell_type": "markdown",
   "metadata": {},
   "source": [
    "Now it's your turn. Fill in the following function which determines the area of a rectangle (the target variable) from the two pieces input data: the length (l) and width (w) of its sides."
   ]
  },
  {
   "cell_type": "code",
   "execution_count": null,
   "metadata": {},
   "outputs": [],
   "source": [
    "def Area_Of_Rectangle(l,w):\n",
    "    "
   ]
  },
  {
   "cell_type": "markdown",
   "metadata": {},
   "source": [
    "Using this format, fill in the cells below to define the three functions from problem two."
   ]
  },
  {
   "cell_type": "code",
   "execution_count": null,
   "metadata": {},
   "outputs": [],
   "source": [
    "def f(x):\n",
    "    "
   ]
  },
  {
   "cell_type": "code",
   "execution_count": null,
   "metadata": {},
   "outputs": [],
   "source": [
    "def g(x):\n",
    "    "
   ]
  },
  {
   "cell_type": "code",
   "execution_count": null,
   "metadata": {},
   "outputs": [],
   "source": [
    "def h(x):\n",
    "    "
   ]
  },
  {
   "cell_type": "markdown",
   "metadata": {},
   "source": [
    "What if we want to automate filling the table from problem 2? We could just plug in the value of x for each of the three functions and record the answer, but it would be a little bit tedious. Instead, we are going to use an *array*. An array is a list of numbers, for example: A = [1,2,3,4] is an array. \n",
    "\n",
    "In order to work with arrays, we'll also need to use numpy. We can define an array called `my_array` as follows:"
   ]
  },
  {
   "cell_type": "code",
   "execution_count": null,
   "metadata": {},
   "outputs": [],
   "source": [
    "my_array = np.array([1,2,3,4])"
   ]
  },
  {
   "cell_type": "markdown",
   "metadata": {},
   "source": [
    "We can now use this array in our functions! For example, we can find the area of the squares with length 1, 2, 3, and 4, all together."
   ]
  },
  {
   "cell_type": "code",
   "execution_count": null,
   "metadata": {},
   "outputs": [],
   "source": [
    "Area_Of_Square(my_array)"
   ]
  },
  {
   "cell_type": "markdown",
   "metadata": {},
   "source": [
    "Using this, create an array, called my_array2, that consists of all the values of x you want to plug in to our three functions."
   ]
  },
  {
   "cell_type": "code",
   "execution_count": null,
   "metadata": {},
   "outputs": [],
   "source": []
  },
  {
   "cell_type": "markdown",
   "metadata": {},
   "source": [
    "Now plug this new array into your functions to get the same results you had before! \n",
    "\n",
    "Note that when we define functions, the name of the variable in parentheses is just a placeholder – in other words, we can define a function as *f(x)*, then ask it to give us the output for a specific input called *x0* by calculating *f(x0)* – note that we've replaced *x* with *x0* now that we want to get specific outputs."
   ]
  },
  {
   "cell_type": "code",
   "execution_count": null,
   "metadata": {},
   "outputs": [],
   "source": []
  },
  {
   "cell_type": "markdown",
   "metadata": {},
   "source": [
    "## \"Learning\""
   ]
  },
  {
   "cell_type": "markdown",
   "metadata": {},
   "source": [
    "In machine learning, we work with data instead of explicit forms for the functions, as we have above. \n",
    "\n",
    "Each of the above models can be put in the form $y = f(x)$. Then if we have the inputs \n",
    "\n",
    "$$x_1 = 1, ~x_2 = 2,~ x_3 = 3,~ x_4 = 4$$\n",
    "\n",
    "we have output \n",
    "\n",
    "$$y_1 = f(x_1),~ y_2 = f(x_2),~ y_3 = f(x_3),~ y_4 = f(x_4).$$\n",
    "\n",
    "For example, using the \"Area_Of_Square\" model, we have \n",
    "\n",
    "$$(x_1,x_2,x_3,x_4) = (1,2,3,4)$$ and $$(y_1,y_2,y_3,y_4) = (1,4,9,16).$$ \n",
    "\n",
    "This information (the data) can be used to create a table,\n",
    "\n",
    "| $x$ | $y$ | \n",
    "| --- | --- |\n",
    "|  1  |  1  |\n",
    "|  2  |  4  |\n",
    "|  3  |  9  |\n",
    "|  4  |  16 |\n",
    "\n",
    "and a scatter plot. In order to create the scatter plot, we need to import some more code, this is used for plotting."
   ]
  },
  {
   "cell_type": "code",
   "execution_count": null,
   "metadata": {},
   "outputs": [],
   "source": [
    "import matplotlib.pyplot as plt # Import the code we need to make plots\n",
    "%matplotlib inline \n",
    "# The line above allows us to see plots."
   ]
  },
  {
   "cell_type": "markdown",
   "metadata": {},
   "source": [
    "We'll create a list of our inputs $x_i$, then our outputs $y_i$, where our inputs $x_i$ give the lengths and the outputs $y_i$ give us the area of a square for those lengths. Then, we plot the input lengths and the output areas!"
   ]
  },
  {
   "cell_type": "code",
   "execution_count": null,
   "metadata": {},
   "outputs": [],
   "source": [
    "xi = np.array([1,2,3,4])\n",
    "yi = Area_Of_Square(xi)\n",
    "plt.plot(xi,yi,'o')"
   ]
  },
  {
   "cell_type": "markdown",
   "metadata": {},
   "source": [
    "We engineered the models that were given above. In other words, we constructed what we thought was a reasonable model. The key difference between what we've done above and \"Machine Learning\" is that in Machine Learning, we use data to try to determine the model. This step is called *learning*.\n",
    "\n",
    "Another way to say this is that in Machine Learning, you have the table\n",
    "\n",
    "| $x$ | $y$ | \n",
    "| --- | --- |\n",
    "|  1  |  1  |\n",
    "|  2  |  4  |\n",
    "|  3  |  9  |\n",
    "|  4  |  16 |\n",
    "\n",
    "\n",
    "and the goal is to *find* the function $f$ such that $y = f(x)$.\n",
    "\n",
    "The $f$ that works for the above scatter plot is $f(x) = x^2$. We can plot this to check it.\n",
    "\n",
    "In order to plot $f(x) = x^2$, we first need to define a bunch of $x$ points. We want to create a curve, so we define a bunch of points that are really close together. We can do this using numpy's \"*arange*\" function."
   ]
  },
  {
   "cell_type": "code",
   "execution_count": null,
   "metadata": {},
   "outputs": [],
   "source": [
    "many_points = np.arange(0,4.1,0.1)\n",
    "many_points"
   ]
  },
  {
   "cell_type": "markdown",
   "metadata": {},
   "source": [
    "What did this function do? Discuss it with your friends. You can also check what a function does with the help function:"
   ]
  },
  {
   "cell_type": "code",
   "execution_count": null,
   "metadata": {},
   "outputs": [],
   "source": [
    "help(np.arange)"
   ]
  },
  {
   "cell_type": "markdown",
   "metadata": {},
   "source": [
    "In order to make the plot, we need to also get the y-values for many_points."
   ]
  },
  {
   "cell_type": "code",
   "execution_count": null,
   "metadata": {},
   "outputs": [],
   "source": [
    "many_y_points = Area_Of_Square(many_points)"
   ]
  },
  {
   "cell_type": "code",
   "execution_count": null,
   "metadata": {},
   "outputs": [],
   "source": [
    "plt.plot(xi,yi,'o')\n",
    "plt.plot(many_points,many_y_points,'r') # 'r' makes the color red\n",
    "plt.legend(['data', 'f'])"
   ]
  },
  {
   "cell_type": "markdown",
   "metadata": {},
   "source": [
    "We see that the curve above goes through each one of our data points, so we think we have found the model $f$. "
   ]
  },
  {
   "cell_type": "markdown",
   "metadata": {},
   "source": [
    "Consider the following table:\n",
    "\n",
    "| $x$ | $y$ | \n",
    "| --- | --- |\n",
    "|  -10  |  -2  |\n",
    "|  -8  |  -1  |\n",
    "|  -7  |  -0.5  |\n",
    "|  -4  |  1 |\n",
    "|  0  |  3  |\n",
    "|  1  |  3.5  |\n",
    "|  2  |  4  |\n",
    "|  4  |  5 |\n",
    "|  6  |  6  |\n",
    "\n",
    "Can you guess what function $y = f(x)$ this represents? To answer this, you may want to plot the data similar to what we did above. Once you have determined the function $f$, plot the data and the curve like you saw above."
   ]
  },
  {
   "cell_type": "code",
   "execution_count": null,
   "metadata": {},
   "outputs": [],
   "source": []
  }
 ],
 "metadata": {
  "kernelspec": {
   "display_name": "Python 3 (ipykernel)",
   "language": "python",
   "name": "python3"
  },
  "language_info": {
   "codemirror_mode": {
    "name": "ipython",
    "version": 3
   },
   "file_extension": ".py",
   "mimetype": "text/x-python",
   "name": "python",
   "nbconvert_exporter": "python",
   "pygments_lexer": "ipython3",
   "version": "3.9.12"
  }
 },
 "nbformat": 4,
 "nbformat_minor": 1
}
