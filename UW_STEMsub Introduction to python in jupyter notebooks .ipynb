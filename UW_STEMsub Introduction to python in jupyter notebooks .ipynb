{
 "cells": [
  {
   "cell_type": "markdown",
   "metadata": {
    "id": "od0Zehi3eGt6"
   },
   "source": [
    "# UW STEMsub introduction to python in jupyter notebooks\n",
    "Created by Amanda Worthy, PhD Student, University of Washington"
   ]
  },
  {
   "cell_type": "code",
   "execution_count": 57,
   "metadata": {
    "id": "n3BqnvSimqZq"
   },
   "outputs": [],
   "source": [
    "# We will be a running a python kernel for our jupyter\n",
    "# First we will start off by importing the python packages that we need\n",
    "\n",
    "import seaborn as sn\n",
    "import plotly.express as px\n",
    "import numpy as np\n",
    "import matplotlib.pyplot as plt\n",
    "import pandas as pd\n",
    "import geopandas as gpd\n",
    "from shapely.geometry import Point, Polygon, box\n",
    "import fiona\n",
    "import pyproj\n",
    "import os\n",
    "import requests\n",
    "import matplotlib.ticker as ticker\n",
    "import glob\n",
    "import openpyxl"
   ]
  },
  {
   "cell_type": "code",
   "execution_count": 58,
   "metadata": {
    "id": "J7vg0dq6dgVr"
   },
   "outputs": [],
   "source": [
    "#this is our first code!!!\n",
    "\n",
    "x=3"
   ]
  },
  {
   "cell_type": "markdown",
   "metadata": {
    "id": "82U9ar3seDjR"
   },
   "source": [
    "# Some introductory resources\n",
    "- jupyter notebooks can have text/ markdown cells\n",
    "- jupyter notebooks can have code cells\n",
    "\n",
    "\n",
    "# Some shorthands commands\n",
    "- use esc AND a to add a cell above the current cell (mac)\n",
    "- use esc AND b to add a cell bellow the current cell (mac)\n",
    "- use command AND s to save the notebook (mac)\n",
    "- use shift AND return to run a cell (mac)\n",
    "\n",
    "\n",
    "Please see the following resources for more introductory information:\n",
    "- https://jakevdp.github.io/WhirlwindTourOfPython/ (great book by a UW alum, a good portion of this tutiorial was adapted from this book)\n",
    "- https://www.dataquest.io/blog/jupyter-notebook-tutorial/ (basic webpage tutorial)\n",
    "- https://colab.research.google.com/github/data-psl/lectures2020/blob/master/notebooks/01_python_basics.ipynb (made by google research, more comprehensive)\n",
    "\n",
    "\n",
    " ** Things can get complicated kind of quickly\n",
    "\n",
    " **** Google will be your best friend if you need syntax help!\n",
    "\n",
    "### When searching for resources on google - include the library that you are working with in your search term\n",
    "\n",
    " EXAMPLES:  \n",
    " - \"matricies in numpy\"\n",
    " - \"rename dataframe columns in pandas\"\n",
    " - \"merge dataframes in pandas\""
   ]
  },
  {
   "cell_type": "markdown",
   "metadata": {
    "id": "_uvoCIA9hUZG"
   },
   "source": [
    "## Lets introduce some simple syntex and define varraibles  "
   ]
  },
  {
   "cell_type": "markdown",
   "metadata": {
    "id": "BmVZkwiqeDY9"
   },
   "source": [
    "# This is a large header!!"
   ]
  },
  {
   "cell_type": "markdown",
   "metadata": {
    "id": "lejG92ws97vL"
   },
   "source": [
    "Here is some Markdown. Edit me! You can add...\n",
    "### Markdown\n",
    "#### headers of different sizes,\n",
    "* bullet\n",
    "* points\n",
    "\n",
    "\\`fixed width font\\`\n",
    "\n",
    "1. Ordered\n",
    "2. Lists,\n",
    "\n",
    "``code = this``\n"
   ]
  },
  {
   "cell_type": "markdown",
   "metadata": {
    "id": "Ni7ine4Fj_p_"
   },
   "source": [
    "### Built-In Types: Simple Values\n",
    "\n",
    "\n",
    "\n",
    "``int``     | ``x = 1``      | integers (i.e., whole numbers)                             \n",
    "\n",
    "``float``   | ``x = 1.0``    | floating-point numbers (i.e., real numbers)\n",
    "                 \n",
    "``complex`` | ``x = 1 + 2j`` | Complex numbers (i.e., numbers with real and imaginary part)\n",
    "\n",
    "``bool``    | ``x = True``   | Boolean: True/False values                                  \n",
    "\n",
    "``str``     | ``x = 'abc'``  | String: characters or text                           \n",
    "\n",
    "``NoneType``| ``x = None``   | Special object indicating nulls                "
   ]
  },
  {
   "cell_type": "code",
   "execution_count": 59,
   "metadata": {
    "id": "pCxmAoT6fQ-v"
   },
   "outputs": [],
   "source": [
    "string= 'this is a string' #use single quotes '...' or double quotes \"...\" to contain a string\n",
    "integer = 4 #this is an interger\n",
    "float_num= 2.234 #this is a float\n",
    "boolean = True #this is a boolean\n",
    "x = [1, 2, 3] #this is a list"
   ]
  },
  {
   "cell_type": "code",
   "execution_count": 60,
   "metadata": {
    "colab": {
     "base_uri": "https://localhost:8080/",
     "height": 35
    },
    "executionInfo": {
     "elapsed": 161,
     "status": "ok",
     "timestamp": 1712005586740,
     "user": {
      "displayName": "Amanda Worthy",
      "userId": "12295861615362154990"
     },
     "user_tz": 420
    },
    "id": "psSjFJ-7eo19",
    "outputId": "a3005077-7cb8-4ea5-d327-f188e39e52cc"
   },
   "outputs": [],
   "source": [
    "#lets make a string \n",
    "\n",
    "\n"
   ]
  },
  {
   "cell_type": "code",
   "execution_count": 61,
   "metadata": {
    "colab": {
     "base_uri": "https://localhost:8080/"
    },
    "executionInfo": {
     "elapsed": 135,
     "status": "ok",
     "timestamp": 1712005732954,
     "user": {
      "displayName": "Amanda Worthy",
      "userId": "12295861615362154990"
     },
     "user_tz": 420
    },
    "id": "b0z2aBEOg5vO",
    "outputId": "dacec171-74c8-4289-b27e-45d346ec965a"
   },
   "outputs": [],
   "source": [
    "# lets check if we defined these correctly by using the built in function \"type\" \n",
    "\n",
    "\n",
    "\n",
    "# we can have multiple lines of code in a cell although only the last output is printed\n",
    "\n"
   ]
  },
  {
   "cell_type": "code",
   "execution_count": 62,
   "metadata": {
    "colab": {
     "base_uri": "https://localhost:8080/"
    },
    "executionInfo": {
     "elapsed": 3,
     "status": "ok",
     "timestamp": 1712005784715,
     "user": {
      "displayName": "Amanda Worthy",
      "userId": "12295861615362154990"
     },
     "user_tz": 420
    },
    "id": "R2nmj-YLSTRf",
    "outputId": "9a2ab995-0da1-48b0-f4a7-170f9e103c81"
   },
   "outputs": [],
   "source": [
    "# the print command will create output\n",
    "\n"
   ]
  },
  {
   "cell_type": "code",
   "execution_count": 63,
   "metadata": {
    "id": "NeYYcK30flw8"
   },
   "outputs": [],
   "source": [
    "#a semi-colon will surpress output\n",
    "\n"
   ]
  },
  {
   "cell_type": "code",
   "execution_count": 64,
   "metadata": {
    "colab": {
     "base_uri": "https://localhost:8080/"
    },
    "executionInfo": {
     "elapsed": 191,
     "status": "ok",
     "timestamp": 1712005875393,
     "user": {
      "displayName": "Amanda Worthy",
      "userId": "12295861615362154990"
     },
     "user_tz": 420
    },
    "id": "2zvQ0vkTfoyi",
    "outputId": "ab4e83a3-6fd0-48c4-a9fc-bb35e182665e"
   },
   "outputs": [],
   "source": [
    "#lets print 2 arguements together using format\n",
    "\n"
   ]
  },
  {
   "cell_type": "markdown",
   "metadata": {
    "id": "2y7zAhnWhFDk"
   },
   "source": [
    "#### We can overwrite varraibles\n",
    "NOTE: Be careful with this. It is reccomended to make a copy of varriables and to call manipulated varraibles new names."
   ]
  },
  {
   "cell_type": "code",
   "execution_count": 65,
   "metadata": {
    "id": "n4X_CG5xfxZ9"
   },
   "outputs": [],
   "source": [
    " #use single quotes '...' or double quotes \"...\" to contain a string\n",
    "\n",
    "string = 'heck ya'\n",
    "interger= 3\n"
   ]
  },
  {
   "cell_type": "code",
   "execution_count": 66,
   "metadata": {
    "colab": {
     "base_uri": "https://localhost:8080/"
    },
    "executionInfo": {
     "elapsed": 120,
     "status": "ok",
     "timestamp": 1712005995172,
     "user": {
      "displayName": "Amanda Worthy",
      "userId": "12295861615362154990"
     },
     "user_tz": 420
    },
    "id": "eqCjtpk8h2tB",
    "outputId": "6b5e6e04-1904-4b41-87f8-a694434bc12e"
   },
   "outputs": [
    {
     "name": "stdout",
     "output_type": "stream",
     "text": [
      "our integer is NOW  4 and our string is heck ya\n"
     ]
    }
   ],
   "source": [
    "# what is our number NOW and our string NOW?\n",
    "\n",
    "print('our integer is NOW  {} and our string is {}'.format(integer, string))"
   ]
  },
  {
   "cell_type": "code",
   "execution_count": 67,
   "metadata": {
    "id": "VvfNKC-Yh3_X"
   },
   "outputs": [],
   "source": [
    "# you can add a comment with a hashtag\n",
    "\n",
    "# this is the \"best practice\" for defining a new varriable\n",
    "\n",
    "number_2 = 3"
   ]
  },
  {
   "cell_type": "code",
   "execution_count": 68,
   "metadata": {
    "id": "vTlySRvGhu9Z"
   },
   "outputs": [],
   "source": [
    "# what happens when we add a number to number_2\n",
    "number_3= 3 + number_2\n",
    "\n"
   ]
  },
  {
   "cell_type": "code",
   "execution_count": 69,
   "metadata": {
    "id": "Dbdp3r479MWh"
   },
   "outputs": [],
   "source": [
    "x = [1, 2, 3] # x is a list that we defined about but I have redefined it down here"
   ]
  },
  {
   "cell_type": "code",
   "execution_count": 70,
   "metadata": {
    "id": "UByWRt1moUNM"
   },
   "outputs": [],
   "source": [
    "#lets define y as x\n",
    "y=x"
   ]
  },
  {
   "cell_type": "code",
   "execution_count": 71,
   "metadata": {
    "colab": {
     "base_uri": "https://localhost:8080/"
    },
    "executionInfo": {
     "elapsed": 144,
     "status": "ok",
     "timestamp": 1712006205986,
     "user": {
      "displayName": "Amanda Worthy",
      "userId": "12295861615362154990"
     },
     "user_tz": 420
    },
    "id": "0_DTmLHcogsK",
    "outputId": "75369f54-de37-40f2-b569-c816c30182be"
   },
   "outputs": [
    {
     "name": "stdout",
     "output_type": "stream",
     "text": [
      "[1, 2, 3, 4]\n"
     ]
    }
   ],
   "source": [
    "# a few comments on lists\n",
    "\n",
    "#what happens when you manupulate x ?\n",
    "\n",
    "\n",
    "x.append(4)\n",
    "\n",
    "# append 4 to the list pointed to by x\n",
    "\n",
    "print(x)\n",
    "\n",
    "# be carefull not to run this cell too many times"
   ]
  },
  {
   "cell_type": "code",
   "execution_count": 72,
   "metadata": {
    "colab": {
     "base_uri": "https://localhost:8080/"
    },
    "executionInfo": {
     "elapsed": 3,
     "status": "ok",
     "timestamp": 1712006224099,
     "user": {
      "displayName": "Amanda Worthy",
      "userId": "12295861615362154990"
     },
     "user_tz": 420
    },
    "id": "zhHRNy_g9XjX",
    "outputId": "2e5433d8-ae8d-4c27-a900-bfc4907a43ad"
   },
   "outputs": [
    {
     "data": {
      "text/plain": [
       "list"
      ]
     },
     "execution_count": 72,
     "metadata": {},
     "output_type": "execute_result"
    }
   ],
   "source": [
    "type(x)"
   ]
  },
  {
   "cell_type": "markdown",
   "metadata": {
    "id": "03VVu7_Pi3i5"
   },
   "source": [
    "#### Python has 0 based indexing"
   ]
  },
  {
   "cell_type": "code",
   "execution_count": 73,
   "metadata": {
    "colab": {
     "base_uri": "https://localhost:8080/"
    },
    "executionInfo": {
     "elapsed": 3,
     "status": "ok",
     "timestamp": 1712006254267,
     "user": {
      "displayName": "Amanda Worthy",
      "userId": "12295861615362154990"
     },
     "user_tz": 420
    },
    "id": "7ciaAB4BiKPE",
    "outputId": "d6378ca7-1b0c-4488-d177-b690db76d301"
   },
   "outputs": [
    {
     "data": {
      "text/plain": [
       "1"
      ]
     },
     "execution_count": 73,
     "metadata": {},
     "output_type": "execute_result"
    }
   ],
   "source": [
    "#now lets look at indexing for lists\n",
    "#python's first index is 0\n",
    "\n",
    "x[0]"
   ]
  },
  {
   "cell_type": "code",
   "execution_count": 74,
   "metadata": {
    "colab": {
     "base_uri": "https://localhost:8080/",
     "height": 35
    },
    "executionInfo": {
     "elapsed": 128,
     "status": "ok",
     "timestamp": 1712006467876,
     "user": {
      "displayName": "Amanda Worthy",
      "userId": "12295861615362154990"
     },
     "user_tz": 420
    },
    "id": "j2iwIG1Gh6yR",
    "outputId": "449aab66-08d0-4a14-fe21-8a1a548118db"
   },
   "outputs": [],
   "source": [
    "#lets define a string \n",
    "\n",
    "\n",
    "\n",
    "# 1st character\n",
    "\n",
    "\n",
    "# first three characters\n",
    "\n",
    "# 2nd to last character\n",
    "\n",
    "\n"
   ]
  },
  {
   "cell_type": "code",
   "execution_count": 75,
   "metadata": {
    "colab": {
     "base_uri": "https://localhost:8080/",
     "height": 35
    },
    "executionInfo": {
     "elapsed": 3,
     "status": "ok",
     "timestamp": 1712006623874,
     "user": {
      "displayName": "Amanda Worthy",
      "userId": "12295861615362154990"
     },
     "user_tz": 420
    },
    "id": "p5wZm0ILqa7s",
    "outputId": "228628cf-d46f-4ae4-afd3-504024e29732"
   },
   "outputs": [],
   "source": [
    "#whats the length of the string\n",
    "\n",
    "#use built in len \n"
   ]
  },
  {
   "cell_type": "code",
   "execution_count": 76,
   "metadata": {
    "colab": {
     "base_uri": "https://localhost:8080/",
     "height": 35
    },
    "executionInfo": {
     "elapsed": 4,
     "status": "ok",
     "timestamp": 1712006610950,
     "user": {
      "displayName": "Amanda Worthy",
      "userId": "12295861615362154990"
     },
     "user_tz": 420
    },
    "id": "tRk9l2V3qTNa",
    "outputId": "70dc8aed-386d-4138-f12e-d4cd2623424d"
   },
   "outputs": [],
   "source": [
    "# Access individual characters in the string (zero-based indexing)\n"
   ]
  },
  {
   "cell_type": "code",
   "execution_count": 77,
   "metadata": {
    "colab": {
     "base_uri": "https://localhost:8080/",
     "height": 35
    },
    "executionInfo": {
     "elapsed": 137,
     "status": "ok",
     "timestamp": 1712006646033,
     "user": {
      "displayName": "Amanda Worthy",
      "userId": "12295861615362154990"
     },
     "user_tz": 420
    },
    "id": "tleZJDzRjg41",
    "outputId": "5488175c-bddb-4614-dfb2-04cbcec37900"
   },
   "outputs": [],
   "source": [
    "#Make a string upper case using .upper()\n",
    "\n"
   ]
  },
  {
   "cell_type": "code",
   "execution_count": 78,
   "metadata": {
    "colab": {
     "base_uri": "https://localhost:8080/",
     "height": 35
    },
    "executionInfo": {
     "elapsed": 132,
     "status": "ok",
     "timestamp": 1712006691427,
     "user": {
      "displayName": "Amanda Worthy",
      "userId": "12295861615362154990"
     },
     "user_tz": 420
    },
    "id": "2-Faicl7jq3E",
    "outputId": "6bc4aa28-2071-4674-941b-30d8ca4f3d4b"
   },
   "outputs": [],
   "source": [
    "#we can multiply strings\n",
    "\n"
   ]
  },
  {
   "cell_type": "markdown",
   "metadata": {
    "id": "Utzz8psgjCdB"
   },
   "source": [
    "### Built-In Data Structures\n",
    "| ``list``  | ``[1, 2, 3]``             | Ordered collection                   \n",
    "| ``tuple`` | ``(1, 2, 3)``             | Immutable ordered collection         \n",
    "| ``dict``  | ``{'a':1, 'b':2, 'c':3}`` | Unordered (key,value) mapping         \n",
    "| ``set``   | ``{1, 2, 3}``             | Unordered collection of unique values |"
   ]
  },
  {
   "cell_type": "markdown",
   "metadata": {
    "id": "Bdp9jtpwDLsM"
   },
   "source": [
    "#### Lists"
   ]
  },
  {
   "cell_type": "code",
   "execution_count": 79,
   "metadata": {
    "id": "iyqopeqjDPXQ"
   },
   "outputs": [],
   "source": [
    "L = [1,3,2,4,5]"
   ]
  },
  {
   "cell_type": "code",
   "execution_count": 80,
   "metadata": {
    "colab": {
     "base_uri": "https://localhost:8080/"
    },
    "executionInfo": {
     "elapsed": 114,
     "status": "ok",
     "timestamp": 1712006818270,
     "user": {
      "displayName": "Amanda Worthy",
      "userId": "12295861615362154990"
     },
     "user_tz": 420
    },
    "id": "wzur1CGNDVEM",
    "outputId": "be11fd5d-f5c9-4766-9269-bff332e4a219"
   },
   "outputs": [
    {
     "data": {
      "text/plain": [
       "[1, 3, 2, 4, 5, 11]"
      ]
     },
     "execution_count": 80,
     "metadata": {},
     "output_type": "execute_result"
    }
   ],
   "source": [
    "# Append a value to the end\n",
    "L.append(11)\n",
    "L"
   ]
  },
  {
   "cell_type": "code",
   "execution_count": 81,
   "metadata": {
    "colab": {
     "base_uri": "https://localhost:8080/"
    },
    "executionInfo": {
     "elapsed": 2,
     "status": "ok",
     "timestamp": 1712006819232,
     "user": {
      "displayName": "Amanda Worthy",
      "userId": "12295861615362154990"
     },
     "user_tz": 420
    },
    "id": "6R6Ojz56E3TU",
    "outputId": "8ac35dfc-3373-4522-ba6c-8d3d5b4f77ce"
   },
   "outputs": [
    {
     "data": {
      "text/plain": [
       "3"
      ]
     },
     "execution_count": 81,
     "metadata": {},
     "output_type": "execute_result"
    }
   ],
   "source": [
    "L[1] # 2nd entry"
   ]
  },
  {
   "cell_type": "code",
   "execution_count": 82,
   "metadata": {
    "colab": {
     "base_uri": "https://localhost:8080/"
    },
    "executionInfo": {
     "elapsed": 4,
     "status": "ok",
     "timestamp": 1712006926236,
     "user": {
      "displayName": "Amanda Worthy",
      "userId": "12295861615362154990"
     },
     "user_tz": 420
    },
    "id": "U0TG1EaeDgrl",
    "outputId": "0939baef-6acc-41fa-ee03-047ec3767824"
   },
   "outputs": [
    {
     "data": {
      "text/plain": [
       "[1, 2, 3, 4, 5, 11]"
      ]
     },
     "execution_count": 82,
     "metadata": {},
     "output_type": "execute_result"
    }
   ],
   "source": [
    "# now sort list by number value\n",
    "\n",
    "L.sort()\n",
    "\n",
    "L.sort(reverse= True)\n",
    "\n",
    "\n",
    "L.sort(reverse= False)\n",
    "\n",
    "L"
   ]
  },
  {
   "cell_type": "code",
   "execution_count": 83,
   "metadata": {
    "colab": {
     "base_uri": "https://localhost:8080/"
    },
    "executionInfo": {
     "elapsed": 2,
     "status": "ok",
     "timestamp": 1712006831611,
     "user": {
      "displayName": "Amanda Worthy",
      "userId": "12295861615362154990"
     },
     "user_tz": 420
    },
    "id": "VW9NbNkYDfP-",
    "outputId": "8129ad8f-dd61-42e8-9ec4-2ee4bf6021b7"
   },
   "outputs": [],
   "source": [
    "# 2nd entry"
   ]
  },
  {
   "cell_type": "code",
   "execution_count": 84,
   "metadata": {
    "id": "BFqLN709ER_n"
   },
   "outputs": [],
   "source": [
    " #1st to 3rd argumemts"
   ]
  },
  {
   "cell_type": "code",
   "execution_count": 85,
   "metadata": {
    "colab": {
     "base_uri": "https://localhost:8080/"
    },
    "executionInfo": {
     "elapsed": 117,
     "status": "ok",
     "timestamp": 1712006997064,
     "user": {
      "displayName": "Amanda Worthy",
      "userId": "12295861615362154990"
     },
     "user_tz": 420
    },
    "id": "zM6L5a_TD94g",
    "outputId": "05e4114c-c789-4fb0-b35a-78a27bb6c486"
   },
   "outputs": [],
   "source": [
    "L2 = [1, 'awe ya!', 3.14, [0, 3, 5]]\n",
    "\n",
    "#whats the last entry here?\n"
   ]
  },
  {
   "cell_type": "markdown",
   "metadata": {
    "id": "okoSJU3bFZVd"
   },
   "source": [
    "#### Tuples\n",
    "\n",
    "- The main distinguishing feature of tuples is that they are immutable: this means that once they are created, their size and contents cannot be changed"
   ]
  },
  {
   "cell_type": "code",
   "execution_count": 86,
   "metadata": {
    "id": "vfw81iUDFY8_"
   },
   "outputs": [],
   "source": [
    "t = (1, 2, 3)"
   ]
  },
  {
   "cell_type": "code",
   "execution_count": 87,
   "metadata": {
    "colab": {
     "base_uri": "https://localhost:8080/"
    },
    "executionInfo": {
     "elapsed": 2,
     "status": "ok",
     "timestamp": 1712007041661,
     "user": {
      "displayName": "Amanda Worthy",
      "userId": "12295861615362154990"
     },
     "user_tz": 420
    },
    "id": "Kp0LjZ54FpNm",
    "outputId": "1f71507f-018f-4bc0-ed7e-82d36d05afa8"
   },
   "outputs": [
    {
     "name": "stdout",
     "output_type": "stream",
     "text": [
      "(1, 2, 3)\n"
     ]
    }
   ],
   "source": [
    "# They can also be defined without any brackets at all\n",
    "\n",
    "t = 1, 2, 3\n",
    "print(t)"
   ]
  },
  {
   "cell_type": "markdown",
   "metadata": {
    "id": "nLevDqvoGT9L"
   },
   "source": [
    "#### Dictionaries\n",
    "\n",
    "- Dictionaries are extremely flexible mappings of keys to values, and form the basis of much of Python's internal implementation. They can be created via a comma-separated list of key:value pairs within curly braces."
   ]
  },
  {
   "cell_type": "code",
   "execution_count": 88,
   "metadata": {
    "id": "ETE3OMD2GiAG"
   },
   "outputs": [],
   "source": [
    "#make a dictionary here\n"
   ]
  },
  {
   "cell_type": "code",
   "execution_count": null,
   "metadata": {
    "colab": {
     "base_uri": "https://localhost:8080/"
    },
    "executionInfo": {
     "elapsed": 3,
     "status": "ok",
     "timestamp": 1712007213657,
     "user": {
      "displayName": "Amanda Worthy",
      "userId": "12295861615362154990"
     },
     "user_tz": 420
    },
    "id": "K9Q5W7lAkwxY",
    "outputId": "2829aab2-c4e2-4c15-81f1-9567034998c2"
   },
   "outputs": [],
   "source": []
  },
  {
   "cell_type": "code",
   "execution_count": 89,
   "metadata": {
    "colab": {
     "base_uri": "https://localhost:8080/"
    },
    "executionInfo": {
     "elapsed": 132,
     "status": "ok",
     "timestamp": 1712007192674,
     "user": {
      "displayName": "Amanda Worthy",
      "userId": "12295861615362154990"
     },
     "user_tz": 420
    },
    "id": "-lxZWwUnGpQm",
    "outputId": "be3ab027-5953-4e7d-cb56-b83b3d85bdd7"
   },
   "outputs": [],
   "source": [
    "# Set a new key:value pair\n",
    "\n"
   ]
  },
  {
   "cell_type": "markdown",
   "metadata": {
    "id": "BbwuVRC_loCv"
   },
   "source": [
    "# Lets add some text"
   ]
  },
  {
   "cell_type": "code",
   "execution_count": 90,
   "metadata": {
    "colab": {
     "base_uri": "https://localhost:8080/"
    },
    "executionInfo": {
     "elapsed": 149,
     "status": "ok",
     "timestamp": 1712007219163,
     "user": {
      "displayName": "Amanda Worthy",
      "userId": "12295861615362154990"
     },
     "user_tz": 420
    },
    "id": "PTg_FWmuGkmV",
    "outputId": "ed85f055-9944-4b83-f050-08111607118d"
   },
   "outputs": [],
   "source": [
    "# Access a value via the key\n",
    "\n"
   ]
  },
  {
   "cell_type": "markdown",
   "metadata": {
    "id": "OR5ue2Yo-dkn"
   },
   "source": [
    "### Functions\n",
    "\n",
    "- more on functions\n",
    "  - https://www.w3schools.com/python/python_functions.asp\n",
    "  - https://cs.stanford.edu/people/nick/py/python-for.html (more expansive)\n",
    "\n"
   ]
  },
  {
   "cell_type": "code",
   "execution_count": 91,
   "metadata": {
    "id": "WcmV73tLIEBd"
   },
   "outputs": [],
   "source": [
    "def functionname( parameters ):\n",
    "   \"make a comment about your functions contents here\"\n",
    "   function_suite\n",
    "   return [expression]"
   ]
  },
  {
   "cell_type": "code",
   "execution_count": 92,
   "metadata": {
    "colab": {
     "base_uri": "https://localhost:8080/"
    },
    "executionInfo": {
     "elapsed": 136,
     "status": "ok",
     "timestamp": 1712007588113,
     "user": {
      "displayName": "Amanda Worthy",
      "userId": "12295861615362154990"
     },
     "user_tz": 420
    },
    "id": "HwdLC_vDIHSl",
    "outputId": "63caafe4-d5fd-433d-e81a-e660108d78fa"
   },
   "outputs": [],
   "source": [
    "#lets make a greetings function \n",
    "\n"
   ]
  },
  {
   "cell_type": "code",
   "execution_count": 93,
   "metadata": {
    "id": "iqN9aBLGIS0r"
   },
   "outputs": [],
   "source": [
    "# now a function with arguements "
   ]
  },
  {
   "cell_type": "code",
   "execution_count": 94,
   "metadata": {
    "colab": {
     "base_uri": "https://localhost:8080/"
    },
    "executionInfo": {
     "elapsed": 9,
     "status": "ok",
     "timestamp": 1712007625484,
     "user": {
      "displayName": "Amanda Worthy",
      "userId": "12295861615362154990"
     },
     "user_tz": 420
    },
    "id": "LwKo5HP_mywv",
    "outputId": "68f64399-3f49-46eb-c465-07c80aee0127"
   },
   "outputs": [],
   "source": [
    "#remember to define numbers "
   ]
  },
  {
   "cell_type": "code",
   "execution_count": 95,
   "metadata": {
    "id": "uliwCPTJItbV"
   },
   "outputs": [],
   "source": [
    "def numbers_print_string(numbers):\n",
    "  list_of_numbers= []\n",
    "  for num in numbers:\n",
    "    list_of_numbers.append(num)\n",
    "  return(list_of_numbers)"
   ]
  },
  {
   "cell_type": "code",
   "execution_count": 96,
   "metadata": {
    "colab": {
     "base_uri": "https://localhost:8080/"
    },
    "executionInfo": {
     "elapsed": 2,
     "status": "ok",
     "timestamp": 1712007617993,
     "user": {
      "displayName": "Amanda Worthy",
      "userId": "12295861615362154990"
     },
     "user_tz": 420
    },
    "id": "LmM2q-a_XNRT",
    "outputId": "e6d2d4bb-c6e2-4186-ad41-c399f2e4d03f"
   },
   "outputs": [
    {
     "data": {
      "text/plain": [
       "['one', 'two', 'three', 'thirteen']"
      ]
     },
     "execution_count": 96,
     "metadata": {},
     "output_type": "execute_result"
    }
   ],
   "source": [
    "numbers_print_string(numbers)"
   ]
  },
  {
   "cell_type": "markdown",
   "metadata": {
    "id": "WT37t0-QJPtS"
   },
   "source": [
    "## Very short introduction to pandas (a major data science library in python)"
   ]
  },
  {
   "cell_type": "code",
   "execution_count": 97,
   "metadata": {
    "colab": {
     "base_uri": "https://localhost:8080/",
     "height": 237
    },
    "executionInfo": {
     "elapsed": 285,
     "status": "ok",
     "timestamp": 1711987835963,
     "user": {
      "displayName": "Amanda Worthy",
      "userId": "12295861615362154990"
     },
     "user_tz": 420
    },
    "id": "4GI_umFuJgFu",
    "outputId": "cd0fa127-e460-44b4-c108-59e2b79c7008"
   },
   "outputs": [
    {
     "data": {
      "text/html": [
       "<div>\n",
       "<style scoped>\n",
       "    .dataframe tbody tr th:only-of-type {\n",
       "        vertical-align: middle;\n",
       "    }\n",
       "\n",
       "    .dataframe tbody tr th {\n",
       "        vertical-align: top;\n",
       "    }\n",
       "\n",
       "    .dataframe thead th {\n",
       "        text-align: right;\n",
       "    }\n",
       "</style>\n",
       "<table border=\"1\" class=\"dataframe\">\n",
       "  <thead>\n",
       "    <tr style=\"text-align: right;\">\n",
       "      <th></th>\n",
       "      <th>label</th>\n",
       "      <th>value</th>\n",
       "    </tr>\n",
       "  </thead>\n",
       "  <tbody>\n",
       "    <tr>\n",
       "      <th>0</th>\n",
       "      <td>A</td>\n",
       "      <td>1</td>\n",
       "    </tr>\n",
       "    <tr>\n",
       "      <th>1</th>\n",
       "      <td>B</td>\n",
       "      <td>2</td>\n",
       "    </tr>\n",
       "    <tr>\n",
       "      <th>2</th>\n",
       "      <td>C</td>\n",
       "      <td>3</td>\n",
       "    </tr>\n",
       "    <tr>\n",
       "      <th>3</th>\n",
       "      <td>A</td>\n",
       "      <td>4</td>\n",
       "    </tr>\n",
       "    <tr>\n",
       "      <th>4</th>\n",
       "      <td>B</td>\n",
       "      <td>5</td>\n",
       "    </tr>\n",
       "    <tr>\n",
       "      <th>5</th>\n",
       "      <td>C</td>\n",
       "      <td>6</td>\n",
       "    </tr>\n",
       "  </tbody>\n",
       "</table>\n",
       "</div>"
      ],
      "text/plain": [
       "  label  value\n",
       "0     A      1\n",
       "1     B      2\n",
       "2     C      3\n",
       "3     A      4\n",
       "4     B      5\n",
       "5     C      6"
      ]
     },
     "execution_count": 97,
     "metadata": {},
     "output_type": "execute_result"
    }
   ],
   "source": [
    "df = pd.DataFrame({'label': ['A', 'B', 'C', 'A', 'B', 'C'],\n",
    "                   'value': [1, 2, 3, 4, 5, 6]})\n",
    "df\n"
   ]
  },
  {
   "cell_type": "code",
   "execution_count": 98,
   "metadata": {
    "colab": {
     "base_uri": "https://localhost:8080/",
     "height": 175
    },
    "executionInfo": {
     "elapsed": 244,
     "status": "ok",
     "timestamp": 1712008314546,
     "user": {
      "displayName": "Amanda Worthy",
      "userId": "12295861615362154990"
     },
     "user_tz": 420
    },
    "id": "gA_v7aPPJhkC",
    "outputId": "93e73f9f-c6e8-489f-90c8-2a6b608a4ce8"
   },
   "outputs": [],
   "source": [
    "# lets create a new data frame with the amount of visitors per animal at the zoo \n",
    "\n",
    "import pandas as pd\n",
    "\n"
   ]
  },
  {
   "cell_type": "code",
   "execution_count": 99,
   "metadata": {
    "colab": {
     "base_uri": "https://localhost:8080/"
    },
    "executionInfo": {
     "elapsed": 1,
     "status": "ok",
     "timestamp": 1712008386800,
     "user": {
      "displayName": "Amanda Worthy",
      "userId": "12295861615362154990"
     },
     "user_tz": 420
    },
    "id": "QZ9-LIvdpaTz",
    "outputId": "06fe75ed-5e12-465b-82db-97dd5b360b45"
   },
   "outputs": [],
   "source": [
    "# lets print the column names with .columns \n",
    "\n",
    "\n"
   ]
  },
  {
   "cell_type": "code",
   "execution_count": 100,
   "metadata": {
    "colab": {
     "base_uri": "https://localhost:8080/"
    },
    "executionInfo": {
     "elapsed": 3,
     "status": "ok",
     "timestamp": 1712008551168,
     "user": {
      "displayName": "Amanda Worthy",
      "userId": "12295861615362154990"
     },
     "user_tz": 420
    },
    "id": "yTR2s_mnqTkl",
    "outputId": "bc1b432b-99ca-41b2-d69d-a397cadd2cfc"
   },
   "outputs": [],
   "source": [
    "#lets print or index on one column "
   ]
  },
  {
   "cell_type": "code",
   "execution_count": 101,
   "metadata": {
    "colab": {
     "base_uri": "https://localhost:8080/"
    },
    "executionInfo": {
     "elapsed": 6,
     "status": "ok",
     "timestamp": 1712008636662,
     "user": {
      "displayName": "Amanda Worthy",
      "userId": "12295861615362154990"
     },
     "user_tz": 420
    },
    "id": "WU5SKi4DqqFU",
    "outputId": "8119e63d-97e0-45cf-a72a-d12612c459b2"
   },
   "outputs": [],
   "source": [
    "#get all of the ages of the animals \n",
    "\n"
   ]
  },
  {
   "cell_type": "code",
   "execution_count": 102,
   "metadata": {
    "colab": {
     "base_uri": "https://localhost:8080/",
     "height": 81
    },
    "executionInfo": {
     "elapsed": 188,
     "status": "ok",
     "timestamp": 1712008516108,
     "user": {
      "displayName": "Amanda Worthy",
      "userId": "12295861615362154990"
     },
     "user_tz": 420
    },
    "id": "efOiGXygKkHG",
    "outputId": "5a3ddc78-aa54-4b93-cd4b-d0b6a5719fcb"
   },
   "outputs": [],
   "source": [
    "#now lets only look at one animal \n",
    "\n"
   ]
  },
  {
   "cell_type": "code",
   "execution_count": 103,
   "metadata": {
    "colab": {
     "base_uri": "https://localhost:8080/",
     "height": 112
    },
    "executionInfo": {
     "elapsed": 7,
     "status": "ok",
     "timestamp": 1712008732982,
     "user": {
      "displayName": "Amanda Worthy",
      "userId": "12295861615362154990"
     },
     "user_tz": 420
    },
    "id": "5wfxWHmHX_to",
    "outputId": "d4c49692-8a27-4171-d69d-77b91d8d8e39"
   },
   "outputs": [],
   "source": [
    "#lets make a dataframe for those who are older\n",
    "\n"
   ]
  },
  {
   "cell_type": "code",
   "execution_count": 104,
   "metadata": {
    "colab": {
     "base_uri": "https://localhost:8080/",
     "height": 112
    },
    "executionInfo": {
     "elapsed": 167,
     "status": "ok",
     "timestamp": 1712008814027,
     "user": {
      "displayName": "Amanda Worthy",
      "userId": "12295861615362154990"
     },
     "user_tz": 420
    },
    "id": "VYNbjFIHYSdF",
    "outputId": "212a7dcb-4bbe-44b5-a51d-bb004d3d05ea"
   },
   "outputs": [],
   "source": [
    "#now the ones who live in the ocean \n",
    "\n"
   ]
  },
  {
   "cell_type": "code",
   "execution_count": 105,
   "metadata": {
    "id": "nzL2-B-lbWET"
   },
   "outputs": [
    {
     "ename": "TypeError",
     "evalue": "scatter() missing 2 required positional arguments: 'x' and 'y'",
     "output_type": "error",
     "traceback": [
      "\u001b[0;31m---------------------------------------------------------------------------\u001b[0m",
      "\u001b[0;31mTypeError\u001b[0m                                 Traceback (most recent call last)",
      "Input \u001b[0;32mIn [105]\u001b[0m, in \u001b[0;36m<cell line: 3>\u001b[0;34m()\u001b[0m\n\u001b[1;32m      1\u001b[0m \u001b[38;5;66;03m#lets make a plot of the relationship \u001b[39;00m\n\u001b[0;32m----> 3\u001b[0m \u001b[43mplt\u001b[49m\u001b[38;5;241;43m.\u001b[39;49m\u001b[43mscatter\u001b[49m\u001b[43m(\u001b[49m\u001b[43m)\u001b[49m\n\u001b[1;32m      4\u001b[0m plt\u001b[38;5;241m.\u001b[39mtitle(\u001b[38;5;124m'\u001b[39m\u001b[38;5;124m'\u001b[39m);\n\u001b[1;32m      5\u001b[0m plt\u001b[38;5;241m.\u001b[39mxlabel(\u001b[38;5;124m'\u001b[39m\u001b[38;5;124m'\u001b[39m)\n",
      "\u001b[0;31mTypeError\u001b[0m: scatter() missing 2 required positional arguments: 'x' and 'y'"
     ]
    }
   ],
   "source": [
    "#lets make a plot of the relationship \n",
    "\n",
    "plt.scatter()\n",
    "plt.title('');\n",
    "plt.xlabel('')\n",
    "plt.ylabel('');\n",
    "plt.show()\n",
    "\n",
    "\n"
   ]
  },
  {
   "cell_type": "code",
   "execution_count": null,
   "metadata": {},
   "outputs": [],
   "source": []
  },
  {
   "cell_type": "code",
   "execution_count": null,
   "metadata": {},
   "outputs": [],
   "source": []
  },
  {
   "cell_type": "code",
   "execution_count": null,
   "metadata": {},
   "outputs": [],
   "source": []
  }
 ],
 "metadata": {
  "colab": {
   "authorship_tag": "ABX9TyNPAXsdUWdkZfR2a70Cf+0n",
   "provenance": [
    {
     "file_id": "1ROCmO_1aXajiq5AV0G1E43qdDUTQ5zXk",
     "timestamp": 1711987187600
    }
   ],
   "toc_visible": true
  },
  "kernelspec": {
   "display_name": "Python 3 (ipykernel)",
   "language": "python",
   "name": "python3"
  },
  "language_info": {
   "codemirror_mode": {
    "name": "ipython",
    "version": 3
   },
   "file_extension": ".py",
   "mimetype": "text/x-python",
   "name": "python",
   "nbconvert_exporter": "python",
   "pygments_lexer": "ipython3",
   "version": "3.9.12"
  }
 },
 "nbformat": 4,
 "nbformat_minor": 1
}
